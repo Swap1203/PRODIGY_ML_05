{
 "cells": [
  {
   "cell_type": "markdown",
   "metadata": {},
   "source": [
    "Data Preprocessing and Model Building"
   ]
  },
  {
   "cell_type": "code",
   "execution_count": 1,
   "metadata": {},
   "outputs": [
    {
     "name": "stdout",
     "output_type": "stream",
     "text": [
      "Found 12000 images belonging to 10 classes.\n",
      "Found 700 images belonging to 10 classes.\n"
     ]
    },
    {
     "name": "stderr",
     "output_type": "stream",
     "text": [
      "c:\\Python311\\Lib\\site-packages\\keras\\src\\layers\\convolutional\\base_conv.py:107: UserWarning: Do not pass an `input_shape`/`input_dim` argument to a layer. When using Sequential models, prefer using an `Input(shape)` object as the first layer in the model instead.\n",
      "  super().__init__(activity_regularizer=activity_regularizer, **kwargs)\n"
     ]
    },
    {
     "name": "stdout",
     "output_type": "stream",
     "text": [
      "Epoch 1/20\n"
     ]
    },
    {
     "name": "stderr",
     "output_type": "stream",
     "text": [
      "c:\\Python311\\Lib\\site-packages\\keras\\src\\trainers\\data_adapters\\py_dataset_adapter.py:121: UserWarning: Your `PyDataset` class should call `super().__init__(**kwargs)` in its constructor. `**kwargs` can include `workers`, `use_multiprocessing`, `max_queue_size`. Do not pass these arguments to `fit()`, as they will be ignored.\n",
      "  self._warn_if_super_not_called()\n"
     ]
    },
    {
     "name": "stdout",
     "output_type": "stream",
     "text": [
      "\u001b[1m 96/375\u001b[0m \u001b[32m━━━━━\u001b[0m\u001b[37m━━━━━━━━━━━━━━━\u001b[0m \u001b[1m8:38\u001b[0m 2s/step - accuracy: 0.1029 - loss: 2.6754"
     ]
    },
    {
     "name": "stderr",
     "output_type": "stream",
     "text": [
      "c:\\Python311\\Lib\\site-packages\\PIL\\Image.py:981: UserWarning: Palette images with Transparency expressed in bytes should be converted to RGBA images\n",
      "  warnings.warn(\n"
     ]
    },
    {
     "name": "stdout",
     "output_type": "stream",
     "text": [
      "\u001b[1m375/375\u001b[0m \u001b[32m━━━━━━━━━━━━━━━━━━━━\u001b[0m\u001b[37m\u001b[0m \u001b[1m667s\u001b[0m 2s/step - accuracy: 0.1463 - loss: 2.3773 - val_accuracy: 0.3371 - val_loss: 1.8637\n",
      "Epoch 2/20\n",
      "\u001b[1m375/375\u001b[0m \u001b[32m━━━━━━━━━━━━━━━━━━━━\u001b[0m\u001b[37m\u001b[0m \u001b[1m559s\u001b[0m 1s/step - accuracy: 0.3611 - loss: 1.8411 - val_accuracy: 0.3829 - val_loss: 1.7977\n",
      "Epoch 3/20\n",
      "\u001b[1m375/375\u001b[0m \u001b[32m━━━━━━━━━━━━━━━━━━━━\u001b[0m\u001b[37m\u001b[0m \u001b[1m568s\u001b[0m 2s/step - accuracy: 0.5293 - loss: 1.3811 - val_accuracy: 0.4929 - val_loss: 1.5396\n",
      "Epoch 4/20\n",
      "\u001b[1m375/375\u001b[0m \u001b[32m━━━━━━━━━━━━━━━━━━━━\u001b[0m\u001b[37m\u001b[0m \u001b[1m586s\u001b[0m 2s/step - accuracy: 0.7791 - loss: 0.7078 - val_accuracy: 0.4586 - val_loss: 2.0153\n",
      "Epoch 5/20\n",
      "\u001b[1m375/375\u001b[0m \u001b[32m━━━━━━━━━━━━━━━━━━━━\u001b[0m\u001b[37m\u001b[0m \u001b[1m593s\u001b[0m 2s/step - accuracy: 0.9511 - loss: 0.1755 - val_accuracy: 0.4957 - val_loss: 2.9055\n",
      "Epoch 6/20\n",
      "\u001b[1m375/375\u001b[0m \u001b[32m━━━━━━━━━━━━━━━━━━━━\u001b[0m\u001b[37m\u001b[0m \u001b[1m575s\u001b[0m 2s/step - accuracy: 0.9798 - loss: 0.0795 - val_accuracy: 0.4643 - val_loss: 3.3048\n",
      "Epoch 7/20\n",
      "\u001b[1m375/375\u001b[0m \u001b[32m━━━━━━━━━━━━━━━━━━━━\u001b[0m\u001b[37m\u001b[0m \u001b[1m599s\u001b[0m 2s/step - accuracy: 0.9882 - loss: 0.0620 - val_accuracy: 0.4800 - val_loss: 3.8681\n",
      "Epoch 8/20\n",
      "\u001b[1m375/375\u001b[0m \u001b[32m━━━━━━━━━━━━━━━━━━━━\u001b[0m\u001b[37m\u001b[0m \u001b[1m588s\u001b[0m 2s/step - accuracy: 0.9953 - loss: 0.0243 - val_accuracy: 0.4771 - val_loss: 4.2977\n",
      "Epoch 9/20\n",
      "\u001b[1m375/375\u001b[0m \u001b[32m━━━━━━━━━━━━━━━━━━━━\u001b[0m\u001b[37m\u001b[0m \u001b[1m575s\u001b[0m 2s/step - accuracy: 0.9895 - loss: 0.0458 - val_accuracy: 0.4486 - val_loss: 4.0716\n",
      "Epoch 10/20\n",
      "\u001b[1m375/375\u001b[0m \u001b[32m━━━━━━━━━━━━━━━━━━━━\u001b[0m\u001b[37m\u001b[0m \u001b[1m615s\u001b[0m 2s/step - accuracy: 0.9923 - loss: 0.0316 - val_accuracy: 0.4643 - val_loss: 4.1999\n",
      "Epoch 11/20\n",
      "\u001b[1m375/375\u001b[0m \u001b[32m━━━━━━━━━━━━━━━━━━━━\u001b[0m\u001b[37m\u001b[0m \u001b[1m600s\u001b[0m 2s/step - accuracy: 0.9907 - loss: 0.0360 - val_accuracy: 0.4329 - val_loss: 4.5027\n",
      "Epoch 12/20\n",
      "\u001b[1m375/375\u001b[0m \u001b[32m━━━━━━━━━━━━━━━━━━━━\u001b[0m\u001b[37m\u001b[0m \u001b[1m605s\u001b[0m 2s/step - accuracy: 0.9901 - loss: 0.0378 - val_accuracy: 0.4486 - val_loss: 4.1946\n",
      "Epoch 13/20\n",
      "\u001b[1m375/375\u001b[0m \u001b[32m━━━━━━━━━━━━━━━━━━━━\u001b[0m\u001b[37m\u001b[0m \u001b[1m606s\u001b[0m 2s/step - accuracy: 0.9907 - loss: 0.0310 - val_accuracy: 0.4343 - val_loss: 5.2184\n",
      "Epoch 14/20\n",
      "\u001b[1m375/375\u001b[0m \u001b[32m━━━━━━━━━━━━━━━━━━━━\u001b[0m\u001b[37m\u001b[0m \u001b[1m607s\u001b[0m 2s/step - accuracy: 0.9969 - loss: 0.0160 - val_accuracy: 0.4114 - val_loss: 5.3354\n",
      "Epoch 15/20\n",
      "\u001b[1m375/375\u001b[0m \u001b[32m━━━━━━━━━━━━━━━━━━━━\u001b[0m\u001b[37m\u001b[0m \u001b[1m555s\u001b[0m 1s/step - accuracy: 0.9940 - loss: 0.0299 - val_accuracy: 0.4386 - val_loss: 4.8113\n",
      "Epoch 16/20\n",
      "\u001b[1m375/375\u001b[0m \u001b[32m━━━━━━━━━━━━━━━━━━━━\u001b[0m\u001b[37m\u001b[0m \u001b[1m560s\u001b[0m 1s/step - accuracy: 0.9897 - loss: 0.0363 - val_accuracy: 0.4543 - val_loss: 5.1767\n",
      "Epoch 17/20\n",
      "\u001b[1m375/375\u001b[0m \u001b[32m━━━━━━━━━━━━━━━━━━━━\u001b[0m\u001b[37m\u001b[0m \u001b[1m597s\u001b[0m 2s/step - accuracy: 0.9877 - loss: 0.0427 - val_accuracy: 0.4829 - val_loss: 5.0059\n",
      "Epoch 18/20\n",
      "\u001b[1m375/375\u001b[0m \u001b[32m━━━━━━━━━━━━━━━━━━━━\u001b[0m\u001b[37m\u001b[0m \u001b[1m602s\u001b[0m 2s/step - accuracy: 0.9943 - loss: 0.0184 - val_accuracy: 0.4571 - val_loss: 5.7363\n",
      "Epoch 19/20\n",
      "\u001b[1m375/375\u001b[0m \u001b[32m━━━━━━━━━━━━━━━━━━━━\u001b[0m\u001b[37m\u001b[0m \u001b[1m602s\u001b[0m 2s/step - accuracy: 0.9972 - loss: 0.0135 - val_accuracy: 0.4157 - val_loss: 6.0910\n",
      "Epoch 20/20\n",
      "\u001b[1m375/375\u001b[0m \u001b[32m━━━━━━━━━━━━━━━━━━━━\u001b[0m\u001b[37m\u001b[0m \u001b[1m638s\u001b[0m 2s/step - accuracy: 0.9935 - loss: 0.0270 - val_accuracy: 0.4771 - val_loss: 5.1214\n"
     ]
    },
    {
     "name": "stderr",
     "output_type": "stream",
     "text": [
      "WARNING:absl:You are saving your model as an HDF5 file via `model.save()` or `keras.saving.save_model(model)`. This file format is considered legacy. We recommend using instead the native Keras format, e.g. `model.save('my_model.keras')` or `keras.saving.save_model(model, 'my_model.keras')`. \n"
     ]
    }
   ],
   "source": [
    "import tensorflow as tf\n",
    "from tensorflow.keras import layers, models\n",
    "from tensorflow.keras.preprocessing.image import ImageDataGenerator\n",
    "import numpy as np\n",
    "import json\n",
    "\n",
    "# Load and preprocess data\n",
    "data_gen = ImageDataGenerator(rescale=1./255, validation_split=0.2)\n",
    "train_data = data_gen.flow_from_directory('C:/Users/Swapnil/Pictures/Swapnil/Prodigy Infotech Internship/Task-5/Fast Food Classification V2/Train', target_size=(224, 224), batch_size=32, subset='training')\n",
    "val_data = data_gen.flow_from_directory('C:/Users/Swapnil/Pictures/Swapnil/Prodigy Infotech Internship/Task-5/Fast Food Classification V2/Valid', target_size=(224, 224), batch_size=32, subset='validation')\n",
    "\n",
    "# Get the number of classes\n",
    "num_classes = len(train_data.class_indices)\n",
    "\n",
    "# Build the model\n",
    "model = models.Sequential([\n",
    "    layers.Conv2D(32, (3, 3), activation='relu', input_shape=(224, 224, 3)),\n",
    "    layers.MaxPooling2D((2, 2)),\n",
    "    layers.Conv2D(64, (3, 3), activation='relu'),\n",
    "    layers.MaxPooling2D((2, 2)),\n",
    "    layers.Conv2D(128, (3, 3), activation='relu'),\n",
    "    layers.MaxPooling2D((2, 2)),\n",
    "    layers.Flatten(),\n",
    "    layers.Dense(512, activation='relu'),\n",
    "    layers.Dense(num_classes, activation='softmax')\n",
    "])\n",
    "\n",
    "# Compile the model\n",
    "model.compile(optimizer='adam', loss='categorical_crossentropy', metrics=['accuracy'])\n",
    "\n",
    "# Train the model\n",
    "history = model.fit(train_data, epochs=20, validation_data=val_data)\n",
    "\n",
    "# Save the model and the class indices\n",
    "model.save('food_recognition_model.h5')\n",
    "with open('class_indices.json', 'w') as f:\n",
    "    json.dump(train_data.class_indices, f)\n"
   ]
  },
  {
   "cell_type": "markdown",
   "metadata": {},
   "source": [
    "Calorie Estimation"
   ]
  },
  {
   "cell_type": "code",
   "execution_count": 2,
   "metadata": {},
   "outputs": [],
   "source": [
    "food_to_calories = {\n",
    "    'Baked Potato': 93,\n",
    "    'Burger': 295,\n",
    "    'Crispy Chicken': 377,\n",
    "    'Donut': 220,\n",
    "    'Fries': 312,\n",
    "    'Hot Dog': 290,\n",
    "    'Pizza': 266,\n",
    "    'Sandwich': 361,\n",
    "    'Taco': 226,\n",
    "    'Taquito': 275,\n",
    "    #Food items and their calorie content\n",
    "}\n",
    "\n",
    "def estimate_calories(food_item):\n",
    "    return food_to_calories.get(food_item, \"Unknown\")\n"
   ]
  },
  {
   "cell_type": "markdown",
   "metadata": {},
   "source": [
    "Prediction and Usage"
   ]
  },
  {
   "cell_type": "code",
   "execution_count": 4,
   "metadata": {},
   "outputs": [
    {
     "name": "stderr",
     "output_type": "stream",
     "text": [
      "WARNING:absl:Compiled the loaded model, but the compiled metrics have yet to be built. `model.compile_metrics` will be empty until you train or evaluate the model.\n"
     ]
    },
    {
     "name": "stdout",
     "output_type": "stream",
     "text": [
      "\u001b[1m1/1\u001b[0m \u001b[32m━━━━━━━━━━━━━━━━━━━━\u001b[0m\u001b[37m\u001b[0m \u001b[1m0s\u001b[0m 137ms/step\n",
      "The recognized food item is Burger with an estimated calorie content of 295 kcal.\n"
     ]
    },
    {
     "data": {
      "image/png": "[encoded data removed]",
      "text/plain": [
       "<Figure size 640x480 with 1 Axes>"
      ]
     },
     "metadata": {},
     "output_type": "display_data"
    }
   ],
   "source": [
    "from tensorflow.keras.models import load_model\n",
    "from tensorflow.keras.preprocessing import image\n",
    "import numpy as np\n",
    "import json\n",
    "import matplotlib.pyplot as plt\n",
    "\n",
    "# Load the model and class indices\n",
    "model = load_model('food_recognition_model.h5')\n",
    "with open('class_indices.json', 'r') as f:\n",
    "    class_indices = json.load(f)\n",
    "    class_labels = {v: k for k, v in class_indices.items()}\n",
    "\n",
    "# Function to preprocess the image\n",
    "def preprocess_image(img_path):\n",
    "    img = image.load_img(img_path, target_size=(224, 224))\n",
    "    img_array = image.img_to_array(img)\n",
    "    img_array = np.expand_dims(img_array, axis=0)\n",
    "    img_array /= 255.0\n",
    "    return img_array\n",
    "\n",
    "# Function to predict the food item and estimate calories\n",
    "def predict_food_and_calories(img_path):\n",
    "    img_array = preprocess_image(img_path)\n",
    "    predictions = model.predict(img_array)\n",
    "    predicted_class = np.argmax(predictions, axis=1)[0]\n",
    "    food_item = class_labels[predicted_class]\n",
    "    calories = estimate_calories(food_item)\n",
    "    return food_item, calories\n",
    "\n",
    "# Example usage\n",
    "img_path = 'C:/Users/Swapnil/Pictures/Swapnil/Prodigy Infotech Internship/Task-5/Fast Food Classification V2/Test/Burger/Burger-Test (2).jpeg'\n",
    "food_item, calories = predict_food_and_calories(img_path)\n",
    "print(f\"The recognized food item is {food_item} with an estimated calorie content of {calories} kcal.\")\n",
    "\n",
    "# Display the image with the prediction\n",
    "def show_image_with_prediction(img_path, food_item, calories):\n",
    "    img = image.load_img(img_path)\n",
    "    plt.imshow(img)\n",
    "    plt.axis('off')\n",
    "    plt.title(f'Food Item: {food_item}, Calories: {calories} kcal')\n",
    "    plt.show()\n",
    "\n",
    "show_image_with_prediction(img_path, food_item, calories)\n"
   ]
  }
 ],
 "metadata": {
  "language_info": {
   "name": "python"
  }
 },
 "nbformat": 4,
 "nbformat_minor": 2
}
